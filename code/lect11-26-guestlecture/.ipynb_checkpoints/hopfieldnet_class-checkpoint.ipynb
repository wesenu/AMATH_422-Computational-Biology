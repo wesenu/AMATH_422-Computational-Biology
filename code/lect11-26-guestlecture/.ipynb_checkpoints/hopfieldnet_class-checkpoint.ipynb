{
 "cells": [
  {
   "cell_type": "code",
   "execution_count": 2,
   "metadata": {},
   "outputs": [
    {
     "data": {
      "image/png": "[encoded data removed]",
      "text/plain": [
       "<Figure size 432x288 with 4 Axes>"
      ]
     },
     "metadata": {},
     "output_type": "display_data"
    },
    {
     "data": {
      "image/png": "[encoded data removed]",
      "text/plain": [
       "<Figure size 432x288 with 2 Axes>"
      ]
     },
     "metadata": {},
     "output_type": "display_data"
    }
   ],
   "source": [
    "%matplotlib inline\n",
    "import warnings\n",
    "warnings.filterwarnings(\"ignore\")\n",
    "\n",
    "from neurodynex.hopfield_network import network, pattern_tools, plot_tools\n",
    "\n",
    "pattern_size = 5\n",
    "\n",
    "# create an instance of the class HopfieldNetwork\n",
    "hopfield_net = network.HopfieldNetwork(nr_neurons= pattern_size**2)\n",
    "\n",
    "# instantiate a pattern factory\n",
    "factory = pattern_tools.PatternFactory(pattern_size, pattern_size)\n",
    "\n",
    "# create a checkerboard pattern and add it to the pattern list\n",
    "checkerboard = factory.create_checkerboard()\n",
    "pattern_list = [checkerboard]\n",
    "\n",
    "\n",
    "\n",
    "# add random patterns to the list\n",
    "pattern_list.extend(factory.create_random_pattern_list(nr_patterns=3, on_probability=0.5))\n",
    "plot_tools.plot_pattern_list(pattern_list)\n",
    "\n",
    "# how similar are the random patterns and the checkerboard? Check the overlaps\n",
    "overlap_matrix = pattern_tools.compute_overlap_matrix(pattern_list)\n",
    "plot_tools.plot_overlap_matrix(overlap_matrix);\n",
    "\n",
    "\n",
    "\"\"\"\n",
    "def compute_overlap_list(reference_pattern, pattern_list, nrOfNeurons):    \n",
    "    # Computes the overlap between the reference_pattern and each pattern in pattern_list\n",
    "    overlap = np.zeros(len(pattern_list))\n",
    "    for i in range(0, len(pattern_list)):\n",
    "        overlap[i] = np.sum(reference_pattern * pattern_list[i]) / nrOfNeurons\n",
    "    return overlap\n",
    "\"\"\";\n"
   ]
  },
  {
   "cell_type": "code",
   "execution_count": 3,
   "metadata": {},
   "outputs": [],
   "source": [
    "# let the hopfield network \"learn\" the patterns. Note: they are not stored\n",
    "# explicitly but only network weights are updated !\n",
    "hopfield_net.store_patterns(pattern_list)\n",
    "\n",
    "\n",
    "\"\"\"\n",
    "    def store_patterns(pattern_list, nrOfNeurons,nrOfNeurons):\n",
    "        weights = np.zeros((nrOfNeurons, nrOfNeurons))\n",
    "        \n",
    "        # textbook formula to compute the weights:\n",
    "        for p in pattern_list:\n",
    "            p_flat = p.flatten()\n",
    "            for i in range(nrOfNeurons):\n",
    "                for k in range(nrOfNeurons):\n",
    "                    self.weights[i, k] += p_flat[i] * p_flat[k]\n",
    "        weights /= nrOfNeurons\n",
    "        \n",
    "        # no self connections:\n",
    "        np.fill_diagonal(weights, 0)\n",
    "    return weights\n",
    "\"\"\";\n"
   ]
  },
  {
   "cell_type": "code",
   "execution_count": 4,
   "metadata": {},
   "outputs": [
    {
     "data": {
      "image/png": "[encoded data removed]",
      "text/plain": [
       "<Figure size 432x288 with 12 Axes>"
      ]
     },
     "metadata": {},
     "output_type": "display_data"
    }
   ],
   "source": [
    "# create a noisy version of a pattern and use that to initialize the network\n",
    "pattern_number = 0\n",
    "noisy_init_state = pattern_tools.flip_n(pattern_list[pattern_number], nr_of_flips=4)#checkerboard\n",
    "hopfield_net.set_state_from_pattern(noisy_init_state)\n",
    "\n",
    "\n",
    "# from this initial state, let the network dynamics evolve.\n",
    "states = hopfield_net.run_with_monitoring(nr_steps=5)\n",
    "\n",
    "\"\"\"\n",
    "    def upd(state_s0, weights):\n",
    "        h = np.sum(weights * state_s0, axis=1)\n",
    "        s1 = np.sign(h)\n",
    "        \n",
    "        # by definition, neurons have state +/-1. If the\n",
    "        # sign function returns 0, we set it to +1\n",
    "        idx0 = s1 == 0\n",
    "        s1[idx0] = 1\n",
    "        return s1\n",
    "    return upd\n",
    "\"\"\";\n",
    "\n",
    "# each network state is a vector. reshape it to the same shape used to create the patterns.\n",
    "states_as_patterns = factory.reshape_patterns(states)\n",
    "# plot the states of the network\n",
    "plot_tools.plot_state_sequence_and_overlap(states_as_patterns, pattern_list, reference_idx=pattern_number, suptitle=\"Network dynamics\")\n"
   ]
  },
  {
   "cell_type": "code",
   "execution_count": 5,
   "metadata": {},
   "outputs": [
    {
     "name": "stdout",
     "output_type": "stream",
     "text": [
      "the alphabet is stored in an object of type: <class 'dict'>\n",
      "letters are patterns of size: (10, 10). Create a network of corresponding size\n"
     ]
    },
    {
     "data": {
      "image/png": "[encoded data removed]",
      "text/plain": [
       "<Figure size 432x288 with 7 Axes>"
      ]
     },
     "metadata": {},
     "output_type": "display_data"
    },
    {
     "data": {
      "image/png": "[encoded data removed]",
      "text/plain": [
       "<Figure size 432x288 with 18 Axes>"
      ]
     },
     "metadata": {},
     "output_type": "display_data"
    }
   ],
   "source": [
    "%matplotlib inline\n",
    "import matplotlib.pyplot as plt\n",
    "from neurodynex.hopfield_network import network, pattern_tools, plot_tools\n",
    "import numpy\n",
    "\n",
    "# the letters we want to store in the hopfield network\n",
    "letter_list = ['A', 'B', 'C', 'S', 'X', 'Y', 'Z']\n",
    "\n",
    "# set a seed to reproduce the same noise in the next run\n",
    "# numpy.random.seed(123)\n",
    "\n",
    "abc_dictionary =pattern_tools.load_alphabet()\n",
    "print(\"the alphabet is stored in an object of type: {}\".format(type(abc_dictionary)))\n",
    "# access the first element and get it's size (they are all of same size)\n",
    "pattern_shape = abc_dictionary['A'].shape\n",
    "print(\"letters are patterns of size: {}. Create a network of corresponding size\".format(pattern_shape))\n",
    "# create an instance of the class HopfieldNetwork\n",
    "hopfield_net = network.HopfieldNetwork(nr_neurons= pattern_shape[0]*pattern_shape[1])\n",
    "\n",
    "# create a list using Pythons List Comprehension syntax:\n",
    "pattern_list = [abc_dictionary[key] for key in letter_list ]\n",
    "plot_tools.plot_pattern_list(pattern_list)\n",
    "\n",
    "# store the patterns\n",
    "hopfield_net.store_patterns(pattern_list)\n",
    "\n",
    "pattern_list[0].shape\n",
    "# # create a noisy version of a pattern and use that to initialize the network\n",
    "noisy_init_state = pattern_tools.flip_n(abc_dictionary['A'], nr_of_flips=10)#checkerboard\n",
    "\n",
    "hopfield_net.set_state_from_pattern(noisy_init_state)\n",
    "\n",
    "# from this initial state, let the network dynamics evolve.\n",
    "states = hopfield_net.run_with_monitoring(nr_steps=8)\n",
    "\n",
    "# each network state is a vector. reshape it to the same shape used to create the patterns.\n",
    "states_as_patterns = pattern_tools.reshape_patterns(states, pattern_list[0].shape)\n",
    "\n",
    "# plot the states of the network\n",
    "plot_tools.plot_state_sequence_and_overlap(\n",
    "    states_as_patterns, pattern_list, reference_idx=0, suptitle=\"Network dynamics\")\n"
   ]
  }
 ],
 "metadata": {
  "kernelspec": {
   "display_name": "Python 3",
   "language": "python",
   "name": "python3"
  },
  "language_info": {
   "codemirror_mode": {
    "name": "ipython",
    "version": 3
   },
   "file_extension": ".py",
   "mimetype": "text/x-python",
   "name": "python",
   "nbconvert_exporter": "python",
   "pygments_lexer": "ipython3",
   "version": "3.6.5"
  }
 },
 "nbformat": 4,
 "nbformat_minor": 2
}
